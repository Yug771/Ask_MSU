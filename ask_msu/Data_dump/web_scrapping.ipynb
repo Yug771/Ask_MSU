{
 "cells": [
  {
   "cell_type": "code",
   "execution_count": 3,
   "metadata": {},
   "outputs": [
    {
     "data": {
      "text/plain": [
       "''"
      ]
     },
     "execution_count": 3,
     "metadata": {},
     "output_type": "execute_result"
    }
   ],
   "source": [
    "import requests\n",
    "from bs4 import BeautifulSoup\n",
    "import os\n",
    "from fpdf import FPDF\n",
    "\n",
    "# URL of the website to be scraped\n",
    "url = \"https://en.wikipedia.org/wiki/Parul_University\"\n",
    "\n",
    "# Send a GET request to the website and get its HTML content\n",
    "response = requests.get(url)\n",
    "soup = BeautifulSoup(response.content, 'html.parser')\n",
    "\n",
    "# Extract the text content from the HTML\n",
    "text = soup.get_text()\n",
    "\n",
    "# Create a PDF object and add a page\n",
    "pdf = FPDF()\n",
    "pdf.add_page()\n",
    "\n",
    "# Set the font and font size\n",
    "pdf.set_font(\"Arial\", size=12)\n",
    "\n",
    "# Convert text to ASCII ignoring errors\n",
    "text = text.encode('ascii', 'ignore').decode('ascii')\n",
    "\n",
    "# Write the text content to the PDF\n",
    "pdf.multi_cell(0, 10, text)\n",
    "\n",
    "# Save the PDF with a unique name\n",
    "i = 1\n",
    "while os.path.exists(f\"{i}.pdf\"):\n",
    "    i += 1\n",
    "pdf.output(f\"{i}.pdf\")\n"
   ]
  }
 ],
 "metadata": {
  "kernelspec": {
   "display_name": "env",
   "language": "python",
   "name": "python3"
  },
  "language_info": {
   "codemirror_mode": {
    "name": "ipython",
    "version": 3
   },
   "file_extension": ".py",
   "mimetype": "text/x-python",
   "name": "python",
   "nbconvert_exporter": "python",
   "pygments_lexer": "ipython3",
   "version": "3.9.0"
  }
 },
 "nbformat": 4,
 "nbformat_minor": 2
}
